{
  "nbformat": 4,
  "nbformat_minor": 5,
  "metadata": {
    "noteable-chatgpt": {
      "create_notebook": {
        "openai_conversation_id": "1d1f906f-a718-5f9b-a6ae-9c7e25068cb2",
        "openai_ephemeral_user_id": "fcf97b42-8a4d-5667-bb39-7feba0c0ee8b",
        "openai_subdivision1_iso_code": "PT-05"
      }
    },
    "noteable": {
      "last_transaction_id": "8eae525e-40c0-4af1-9d1b-e37a407027a0"
    },
    "selected_hardware_size": "small"
  },
  "cells": [
    {
      "id": "eb586e0f-c283-426e-b566-0ce2c2395c1e",
      "cell_type": "code",
      "metadata": {
        "jupyter": {
          "outputs_hidden": false,
          "source_hidden": false
        },
        "noteable": {
          "cell_type": "code"
        }
      },
      "execution_count": null,
      "source": "",
      "outputs": []
    },
    {
      "id": "914ac928-daed-418e-9025-33b7d4aabbfb",
      "cell_type": "markdown",
      "source": "## Heat Equation\n\nThe heat equation is a parabolic partial differential equation that describes the distribution of heat (or variation in temperature) in a given region over time. In a one-dimensional case, it can be written as:\n\n∂T/∂t = α ∂²T/∂x²\n\nwhere:\n- T is the temperature,\n- t is the time,\n- x is the position along the rod, and\n- α is the thermal diffusivity of the material.\n\n## Discretization\n\nTo solve this equation numerically, we discretize it using a method called finite difference. In this method, the derivatives in the equations are approximated by differences at discrete points in the domain.\n\nFor example, the first derivative of a function f with respect to t can be approximated as:\n\n(f[i, n+1] - f[i, n]) / Δt\n\nwhere Δt is the time step and n is the index of the time step. Similarly, the second derivative with respect to x can be approximated as:\n\n(f[i+1, n] - 2f[i, n] + f[i-1, n]) / Δx²\n\nwhere Δx is the distance between two consecutive points and i is the index of the point. Applying this method to the heat equation, we get the discretized equation that we implement in the Python code.\n\n## Python Implementation\n\nIn the Python code, we first initialize the temperature array `T` with zeros and set the boundary condition at x = 0. We then create a time-stepping loop, and within each time step, we update the temperature at each point according to the discretized heat equation. Finally, we plot the initial and final temperature distributions.",
      "metadata": {
        "jupyter": {
          "outputs_hidden": false,
          "source_hidden": false
        },
        "noteable": {
          "cell_type": "markdown"
        }
      }
    },
    {
      "id": "0732e4af-221f-4bd7-8571-7b15e149fbde",
      "cell_type": "code",
      "metadata": {
        "jupyter": {
          "outputs_hidden": false,
          "source_hidden": false
        },
        "noteable": {
          "cell_type": "code",
          "output_collection_id": "5b3eff30-3e38-4082-b379-ed48fa36425f"
        },
        "ExecuteTime": {
          "end_time": "2023-05-31T09:22:28.248173+00:00",
          "start_time": "2023-05-31T09:22:26.253669+00:00"
        }
      },
      "execution_count": null,
      "source": "import numpy as np\nimport matplotlib.pyplot as plt\n\n# Parameters\nL = 1  # length of the rod\nnx = 51  # number of points in the rod\ndx = L / (nx - 1)  # distance between two consecutive points\nalpha = 1.22e-3  # thermal diffusivity of the material\n\n# Initial temperature distribution\nT = np.zeros(nx)  # initialize the temperature array with zeros\nT[0] = 100  # boundary condition at x = 0\n\n# Plot initial condition\nplt.figure(figsize=(6, 4), dpi=100)\nplt.plot(np.linspace(0, L, nx), T)\nplt.xlabel('Length of the rod')\nplt.ylabel('Temperature')\nplt.title('Initial Condition')\nplt.grid(True)\nplt.show()",
      "outputs": []
    },
    {
      "id": "0e27be42-5d30-4969-b744-cfcba1aa91a9",
      "cell_type": "code",
      "metadata": {
        "jupyter": {
          "outputs_hidden": false,
          "source_hidden": false
        },
        "noteable": {
          "cell_type": "code",
          "output_collection_id": "b030047c-2936-4094-8388-996c85cf69d2"
        },
        "ExecuteTime": {
          "end_time": "2023-05-31T09:23:27.983663+00:00",
          "start_time": "2023-05-31T09:23:27.402706+00:00"
        }
      },
      "execution_count": null,
      "source": "# Parameters for the time discretization\nnt = 1000  # number of time steps\ndt = 0.1  # time step\n\n# Initialize the new temperature array\nT_new = T.copy()\n\nfor n in range(nt):\n    T_new[1:-1] = T[1:-1] + alpha * dt / dx**2 * (T[2:] - 2*T[1:-1] + T[:-2])\n    T = T_new.copy()\n\n# Plot the final temperature distribution\nplt.figure(figsize=(6, 4), dpi=100)\nplt.plot(np.linspace(0, L, nx), T)\nplt.xlabel('Length of the rod')\nplt.ylabel('Temperature')\nplt.title('Final Temperature Distribution')\nplt.grid(True)\nplt.show()",
      "outputs": []
    }
  ]
}