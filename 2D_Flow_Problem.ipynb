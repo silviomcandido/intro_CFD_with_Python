{
  "nbformat": 4,
  "nbformat_minor": 5,
  "metadata": {
    "noteable-chatgpt": {
      "create_notebook": {
        "openai_conversation_id": "1d1f906f-a718-5f9b-a6ae-9c7e25068cb2",
        "openai_ephemeral_user_id": "fcf97b42-8a4d-5667-bb39-7feba0c0ee8b",
        "openai_subdivision1_iso_code": "PT-05"
      }
    },
    "noteable": {
      "last_transaction_id": "55ec4ca3-8573-4bfc-8658-8e24264a18f1"
    },
    "selected_hardware_size": "small"
  },
  "cells": [
    {
      "id": "058408e7-4c81-4d4f-8508-5a6f266f9a3b",
      "cell_type": "markdown",
      "source": "## Navier-Stokes Equations\n\nThe Navier-Stokes equations are a set of equations that describe the motion of viscous fluid substances. These balance equations arise from applying Isaac Newton's second law to fluid motion, together with the assumption that the stress in the fluid is the sum of a diffusing viscous term and a pressure term.\n\nIn two dimensions, the Navier-Stokes equations for incompressible flow can be written as:\n\n∂u/∂t + u ∂u/∂x + v ∂u/∂y = -1/ρ ∂p/∂x + ν (∂²u/∂x² + ∂²u/∂y²)\n\n∂v/∂t + u ∂v/∂x + v ∂v/∂y = -1/ρ ∂p/∂y + ν (∂²v/∂x² + ∂²v/∂y²)\n\nwhere:\n- u and v are the velocities in the x and y directions, respectively,\n- p is the fluid pressure,\n- ρ is the fluid density,\n- ν is the kinematic viscosity.\n\n## Discretization\n\nTo solve these equations numerically, we discretize them using a method called finite difference. In this method, the derivatives in the equations are approximated by differences at discrete points in the domain.\n\nFor example, the first derivative of a function f with respect to x can be approximated as:\n\n(f[i+1] - f[i]) / Δx\n\nwhere Δx is the distance between two consecutive points and i is the index of the point. Similarly, the second derivative can be approximated as:\n\n(f[i+1] - 2f[i] + f[i-1]) / Δx²\n\nApplying this method to the Navier-Stokes equations, we get the discretized equations that we implement in the Python code.",
      "metadata": {
        "jupyter": {
          "outputs_hidden": false,
          "source_hidden": false
        },
        "noteable": {
          "cell_type": "markdown"
        }
      }
    },
    {
      "id": "003fa4a4-f5c9-4600-9460-e96dff89732e",
      "cell_type": "code",
      "metadata": {
        "jupyter": {
          "outputs_hidden": false,
          "source_hidden": false
        },
        "noteable": {
          "cell_type": "code",
          "output_collection_id": "902bbc1a-e06b-4b45-8a57-018628fa32c7"
        },
        "ExecuteTime": {
          "end_time": "2023-05-31T10:01:44.358215+00:00",
          "start_time": "2023-05-31T10:01:44.195867+00:00"
        }
      },
      "execution_count": null,
      "source": "import numpy as np\nimport matplotlib.pyplot as plt\nfrom mpl_toolkits.mplot3d import Axes3D\n\n# Parameters\nnx = 41  # number of points in x direction\nny = 41  # number of points in y direction\nnt = 120  # number of time steps\nc = 1  # wave speed\ndx = 2 / (nx - 1)  # distance between any pair of adjacent grid points in x direction\ndy = 2 / (ny - 1)  # distance between any pair of adjacent grid points in y direction\nsigma = .0009  # parameter for stability\nnu = 0.01  # viscosity\ndt = sigma * dx * dy / nu  # time-step size\n\n# Initial conditions\nu = np.ones((ny, nx))  # velocity along x\nv = np.ones((ny, nx))  # velocity along y\nun = np.ones((ny, nx))  # temporary array\nvn = np.ones((ny, nx))  # temporary array\ncomb = np.ones((ny, nx))  # combination of u and v\n\n# Initial condition parameters\nu[int(.5 / dy):int(1 / dy + 1), int(.5 / dx):int(1 / dx + 1)] = 2\nv[int(.5 / dy):int(1 / dy + 1), int(.5 / dx):int(1 / dx + 1)] = 2",
      "outputs": []
    },
    {
      "id": "63bfd853-3edc-41be-bb73-7ce3fa008f36",
      "cell_type": "code",
      "metadata": {
        "jupyter": {
          "outputs_hidden": false,
          "source_hidden": false
        },
        "noteable": {
          "cell_type": "code",
          "output_collection_id": "51a20a81-12d0-4b37-939c-d6522eff7914"
        },
        "ExecuteTime": {
          "end_time": "2023-05-31T10:30:42.352048+00:00",
          "start_time": "2023-05-31T10:30:42.160739+00:00"
        }
      },
      "execution_count": null,
      "source": "for n in range(nt + 1):\n    un = u.copy()\n    vn = v.copy()\n\n    u[1:-1, 1:-1] = (un[1:-1, 1:-1] -\n                     dt / dx * un[1:-1, 1:-1] * (un[1:-1, 1:-1] - un[1:-1, 0:-2]) -\n                     dt / dy * vn[1:-1, 1:-1] * (un[1:-1, 1:-1] - un[0:-2, 1:-1]) +\n                     nu * dt / dx**2 * (un[1:-1,2:] - 2 * un[1:-1, 1:-1] + un[1:-1, 0:-2]) +\n                     nu * dt / dy**2 * (un[2:, 1:-1] - 2 * un[1:-1, 1:-1] + un[0:-2, 1:-1]))\n\n    v[1:-1, 1:-1] = (vn[1:-1, 1:-1] -\n                     dt / dx * un[1:-1, 1:-1] * (vn[1:-1, 1:-1] - vn[1:-1, 0:-2]) -\n                     dt / dy * vn[1:-1, 1:-1] * (vn[1:-1, 1:-1] - vn[0:-2, 1:-1]) +\n                     nu * dt / dx**2 * (vn[1:-1, 2:] - 2 * vn[1:-1, 1:-1] + vn[1:-1, 0:-2]) +\n                     nu * dt / dy**2 * (vn[2:, 1:-1] - 2 * vn[1:-1, 1:-1] + vn[0:-2, 1:-1]))\n\n    # Boundary conditions\n    u[0, :] = 0\n    u[-1, :] = 0\n    u[:, 0] = 0\n    u[:, -1] = 0\n\n    v[0, :] = 0\n    v[-1, :] = 0\n    v[:, 0] = 0\n    v[:, -1] = 0\n",
      "outputs": []
    },
    {
      "id": "9f008e6f-cb68-48c7-8d19-be984ce8171e",
      "cell_type": "code",
      "metadata": {
        "jupyter": {
          "outputs_hidden": false,
          "source_hidden": false
        },
        "noteable": {
          "cell_type": "code",
          "output_collection_id": "dfd1f9fa-8b80-4f03-a3c7-4d9ccb9a232d"
        },
        "ExecuteTime": {
          "end_time": "2023-05-31T10:30:58.490353+00:00",
          "start_time": "2023-05-31T10:30:57.914471+00:00"
        }
      },
      "execution_count": null,
      "source": "# Define the grid points\nX, Y = np.meshgrid(np.linspace(0, 2, nx), np.linspace(0, 2, ny))\n\n# Plot the velocity field\nfig = plt.figure(figsize=(11, 7), dpi=100)\nplt.quiver(X[::3, ::3], Y[::3, ::3], u[::3, ::3], v[::3, ::3])\nplt.show()",
      "outputs": []
    }
  ]
}