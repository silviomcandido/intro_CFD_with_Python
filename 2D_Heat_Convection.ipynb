{
  "nbformat": 4,
  "nbformat_minor": 5,
  "metadata": {
    "noteable-chatgpt": {
      "create_notebook": {
        "openai_conversation_id": "1d1f906f-a718-5f9b-a6ae-9c7e25068cb2",
        "openai_ephemeral_user_id": "fcf97b42-8a4d-5667-bb39-7feba0c0ee8b",
        "openai_subdivision1_iso_code": "PT-05"
      }
    },
    "noteable": {
      "last_transaction_id": "4ed6cdf7-ac7c-47a2-9a85-04a8d6d6cde7"
    },
    "selected_hardware_size": "small"
  },
  "cells": [
    {
      "id": "abb8323a-8c11-43f2-b98f-23dde8fc8f17",
      "cell_type": "markdown",
      "source": "# 2D Heat Convection\n\nIn this notebook, we will solve a 2D heat convection problem using the finite difference method. The problem involves simulating the transport of heat in a fluid due to convection. This is a fundamental problem in fluid dynamics and heat transfer, with applications in many engineering fields.\n\n## Governing Equations\n\nThe governing equation for 2D heat convection is the 2D convection-diffusion equation, which can be written as:\n\n$$\\frac{\\partial T}{\\partial t} + u \\frac{\\partial T}{\\partial x} + v \\frac{\\partial T}{\\partial y} = \\alpha \\left(\\frac{\\partial^2 T}{\\partial x^2} + \\frac{\\partial^2 T}{\\partial y^2}\\right)$$\n\nwhere:\n- $T$ is the temperature,\n- $t$ is the time,\n- $x$ and $y$ are the spatial coordinates,\n- $u$ and $v$ are the velocities in the $x$ and $y$ directions, respectively, and\n- $\\alpha$ is the thermal diffusivity.\n\nThis equation represents the balance of heat carried by the fluid flow (the convective term) and heat transferred due to temperature gradients (the diffusive term).\n\n## Numerical Scheme\n\nWe will discretize this equation using the finite difference method. The time derivative will be discretized using a forward difference, the spatial derivatives will be discretized using central differences, and the diffusive term will be discretized using a second-order central difference. This leads to the following discretized equation:\n\n$$\\frac{T_{i,j}^{n+1} - T_{i,j}^n}{\\Delta t} + u \\frac{T_{i+1,j}^n - T_{i-1,j}^n}{2\\Delta x} + v \\frac{T_{i,j+1}^n - T_{i,j-1}^n}{2\\Delta y} = \\alpha \\left(\\frac{T_{i+1,j}^n - 2T_{i,j}^n + T_{i-1,j}^n}{\\Delta x^2} + \\frac{T_{i,j+1}^n - 2T_{i,j}^n + T_{i,j-1}^n}{\\Delta y^2}\\right)$$\n\nwhere $\\Delta t$ is the time step, $\\Delta x$ and $\\Delta y$ are the spatial steps, and the superscript $n$ denotes the time level.\n\n## Boundary Conditions\n\nThe boundary conditions for this problem will be specified as constant temperature values at the boundaries of the domain. These can be implemented in the numerical scheme by simply setting the temperature values at the boundary points to the specified values at each time step.",
      "metadata": {
        "jupyter": {
          "outputs_hidden": false,
          "source_hidden": false
        },
        "noteable": {
          "cell_type": "markdown"
        }
      }
    },
    {
      "id": "7f066932-43d6-4291-b4e9-48a03385a879",
      "cell_type": "code",
      "metadata": {
        "jupyter": {
          "outputs_hidden": false,
          "source_hidden": false
        },
        "noteable": {
          "cell_type": "code",
          "output_collection_id": "86ff6055-2de4-49ef-a94e-0741bec876b3"
        },
        "ExecuteTime": {
          "end_time": "2023-05-31T13:34:33.743217+00:00",
          "start_time": "2023-05-31T13:34:25.353075+00:00"
        }
      },
      "execution_count": null,
      "source": "import numpy as np\nimport matplotlib.pyplot as plt\n\n# Domain size and spacing\nLx = 1.0\nLy = 1.0\nnx = 41\nny = 41\ndx = Lx / (nx - 1)\ndy = Ly / (ny - 1)\n\n# Time step and end time\ndt = 0.001\nT_end = 0.5\nnt = int(T_end / dt) + 1\n\n# Initialize the temperature field\nT = np.zeros((ny, nx))\n\n# Set the velocities\nu = 1.0\nv = 1.0\n\n# Set the thermal diffusivity\nalpha = 0.05\n\n# Time-stepping loop\nfor n in range(nt):\n    Tn = T.copy()\n    T[1:-1, 1:-1] = (Tn[1:-1, 1:-1] -\n                     dt * u * (Tn[1:-1, 2:] - Tn[1:-1, :-2]) / (2 * dx) -\n                     dt * v * (Tn[2:, 1:-1] - Tn[:-2, 1:-1]) / (2 * dy) +\n                     alpha * dt * (Tn[1:-1, 2:] - 2 * Tn[1:-1, 1:-1] + Tn[1:-1, :-2]) / dx**2 +\n                     alpha * dt * (Tn[2:, 1:-1] - 2 * Tn[1:-1, 1:-1] + Tn[:-2, 1:-1]) / dy**2)\n\n    # Apply the boundary conditions\n    T[0, :] = 1.0\n    T[-1, :] = 1.0\n    T[:, 0] = 1.0\n    T[:, -1] = 1.0\n\n    # Plot the temperature field at certain time steps\n    if n % 50 == 0:\n        plt.figure(figsize=(7, 5))\n        plt.contourf(T, cmap='hot', levels=np.linspace(np.min(T), np.max(T), num=100))\n        plt.title('Temperature at time step {}'.format(n))\n        plt.colorbar()\n        plt.show()\n        ",
      "outputs": []
    },
    {
      "id": "c0c9abe9-201b-4f69-ab92-4316e75fae68",
      "cell_type": "markdown",
      "source": "## Convergence and Error Analysis\n\nIn numerical simulations, it's important to ensure that the solution is converging to the correct answer. One way to check this is to compute the solution for different grid resolutions and see if the solution is becoming more accurate as the grid is refined.\n\nIn this case, since we don't have an analytical solution to compare with, we will use the method of 'observed order of convergence' (OOC). The idea is to compute the solution for different grid resolutions, compute the difference between the solutions at successive resolutions, and see if this difference is decreasing as the grid is refined.\n\nWe will compute the L2 norm of the difference between the solutions at successive resolutions, which is defined as:\n\n$$||T_{h} - T_{2h}|| = \\sqrt{\\sum_{i,j} (T_{h_{i,j}} - T_{2h_{i,j}})^2}$$\n\nwhere $T_{h}$ is the solution at the finer resolution and $T_{2h}$ is the solution at the coarser resolution. The L2 norm gives a measure of the 'average' difference between the two solutions over the entire domain.\n\nWe expect that, as the grid is refined (i.e., as $h$ decreases), the L2 norm of the difference between the solutions at successive resolutions should also decrease. If it does, this indicates that the solution is converging. Furthermore, for a second-order method (which the finite difference method is), we expect that the L2 norm should decrease by a factor of 4 (approximately) each time the grid resolution is doubled. This is because the error of a second-order method is proportional to $h^2$, so if $h$ is halved, the error should decrease by a factor of $(1/2)^2 = 1/4$.\n\nLet's implement this convergence check in the code.",
      "metadata": {
        "jupyter": {
          "outputs_hidden": false,
          "source_hidden": false
        },
        "noteable": {
          "cell_type": "markdown"
        }
      }
    }
  ]
}