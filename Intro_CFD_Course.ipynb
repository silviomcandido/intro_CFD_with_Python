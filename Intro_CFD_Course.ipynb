{
  "cells": [
    {
      "cell_type": "markdown",
      "source": [
        "# Introductory Course on Computational Fluid Dynamics\n",
        "\n",
        "## Course Outline\n",
        "\n",
        "1. Introduction to Computational Fluid Dynamics\n",
        "2. Governing Equations\n",
        "3. Introduction to Discretization\n",
        "    - Finite Difference Method\n",
        "    - Finite Volume Method\n",
        "4. 1D Heat Transfer Problem\n",
        "5. 2D Flow Problem\n",
        "6. Conclusion and Further Reading"
      ],
      "metadata": {
        "jupyter": {
          "outputs_hidden": false,
          "source_hidden": false
        },
        "noteable": {
          "cell_type": "markdown"
        }
      },
      "id": "998865d6-3024-4f3e-8a63-d4ec15a39614"
    },
    {
      "cell_type": "markdown",
      "source": [
        "## 1. Introduction to Computational Fluid Dynamics\n",
        "\n",
        "Computational Fluid Dynamics (CFD) is a branch of fluid mechanics that uses numerical analysis and algorithms to solve and analyze problems involving fluid flows. Computers are used to perform the calculations required to simulate the interaction of liquids and gases with surfaces defined by boundary conditions. CFD is highly useful in a wide range of applications like aerodynamics, hydrodynamics, weather modeling, and more.\n",
        "\n",
        "In this course, we will use Python, a powerful and easy-to-learn programming language, to demonstrate the fundamental concepts of CFD. Python has a rich ecosystem of libraries such as NumPy and Matplotlib which make it ideal for scientific computing tasks."
      ],
      "metadata": {
        "jupyter": {
          "outputs_hidden": false,
          "source_hidden": false
        },
        "noteable": {
          "cell_type": "markdown"
        }
      },
      "id": "95f42174-2daf-474f-8ced-751c4f3596ea"
    },
    {
      "cell_type": "markdown",
      "source": [
        "## 2. Governing Equations\n",
        "\n",
        "The behavior of fluid flow is governed by three fundamental principles:\n",
        "\n",
        "1. **Conservation of mass**: This is represented by the Continuity Equation. For an incompressible fluid, it simplifies to the condition that the divergence of the velocity field is zero.\n",
        "\n",
        "2. **Conservation of momentum**: This is represented by the Navier-Stokes Equations. These equations represent the balance of forces acting at any point in the fluid.\n",
        "\n",
        "3. **Conservation of energy**: This is represented by the Energy Equation. For fluid flow problems, it is often coupled with the Navier-Stokes equations to account for temperature-dependent properties or energy transfer.\n",
        "\n",
        "These equations are partial differential equations (PDEs) that relate the fluid properties (such as velocity, pressure, and temperature) to their rates of change within the fluid field. In CFD, we use numerical methods to solve these PDEs over a discretized field of fluid flow."
      ],
      "metadata": {
        "jupyter": {
          "outputs_hidden": false,
          "source_hidden": false
        },
        "noteable": {
          "cell_type": "markdown"
        }
      },
      "id": "378002ef-62fa-4752-9ae5-3d811360aa90"
    },
    {
      "cell_type": "markdown",
      "source": [
        "## 3. Introduction to Discretization\n",
        "\n",
        "Discretization is the process of breaking up the domain of a problem into a finite number of smaller regions, where the equations can be solved. In CFD, we discretize the governing equations over a grid of points in the fluid domain. There are several methods of discretization, but we will focus on two main ones:\n",
        "\n",
        "### Finite Difference Method\n",
        "\n",
        "The Finite Difference (FD) method is a simple and intuitive method of discretizing differential equations. The basic idea is to approximate the derivatives in the equations by the differences at the discrete points. For example, the first derivative of a function can be approximated by the difference between its values at two adjacent points, divided by the distance between the points.\n",
        "\n",
        "### Finite Volume Method\n",
        "\n",
        "The Finite Volume (FV) method is another popular method in CFD. It involves dividing the domain into a finite number of control volumes and integrating the governing equations over these volumes. The FV method is particularly useful for problems involving complex geometries and conservation laws, as it ensures the conservation of quantities like mass and energy at the control volumes.\n",
        "\n",
        "In the following sections, we will use these methods to solve some simple CFD problems."
      ],
      "metadata": {
        "jupyter": {
          "outputs_hidden": false,
          "source_hidden": false
        },
        "noteable": {
          "cell_type": "markdown"
        }
      },
      "id": "56f514ac-946a-4845-919f-b0dce9b55c82"
    },
    {
      "cell_type": "markdown",
      "source": [
        "## 2. Governing Equations\n",
        "\n",
        "The behavior of fluid flow is governed by three fundamental principles:\n",
        "\n",
        "1. **Conservation of mass**: This is represented by the Continuity Equation. For an incompressible fluid, it simplifies to the condition that the divergence of the velocity field is zero. Mathematically, this can be written as:\n",
        "\n",
        "$$\\nabla \\cdot \\mathbf{v} = 0$$\n",
        "\n",
        "where $\\mathbf{v}$ is the velocity field.\n",
        "\n",
        "2. **Conservation of momentum**: This is represented by the Navier-Stokes Equations. These equations represent the balance of forces acting at any point in the fluid. For an incompressible, Newtonian fluid, they can be written as:\n",
        "\n",
        "$$\\frac{\\partial \\mathbf{v}}{\\partial t} + (\\mathbf{v} \\cdot \\nabla) \\mathbf{v} = -\\frac{1}{\\rho}\\nabla p + \\nu \\nabla^2 \\mathbf{v}$$\n",
        "\n",
        "where $t$ is time, $\\rho$ is the fluid density, $p$ is the pressure, and $\\nu$ is the kinematic viscosity.\n",
        "\n",
        "3. **Conservation of energy**: This is represented by the Energy Equation. For fluid flow problems, it is often coupled with the Navier-Stokes equations to account for temperature-dependent properties or energy transfer. For an incompressible, Newtonian fluid with constant properties, it can be written as:\n",
        "\n",
        "$$\\frac{\\partial T}{\\partial t} + \\mathbf{v} \\cdot \\nabla T = \\alpha \\nabla^2 T$$\n",
        "\n",
        "where $T$ is the temperature and $\\alpha$ is the thermal diffusivity.\n",
        "\n",
        "These equations are partial differential equations (PDEs) that relate the fluid properties (such as velocity, pressure, and temperature) to their rates of change within the fluid field. In CFD, we use numerical methods to solve these PDEs over a discretized field of fluid flow."
      ],
      "metadata": {
        "jupyter": {
          "outputs_hidden": false,
          "source_hidden": false
        },
        "noteable": {
          "cell_type": "markdown"
        }
      },
      "id": "5d1b0841-33a0-40a4-8e63-14b3205cc5c2"
    }
  ],
  "metadata": {
    "noteable-chatgpt": {
      "create_notebook": {
        "openai_conversation_id": "1d1f906f-a718-5f9b-a6ae-9c7e25068cb2",
        "openai_ephemeral_user_id": "fcf97b42-8a4d-5667-bb39-7feba0c0ee8b",
        "openai_subdivision1_iso_code": "PT-05"
      }
    },
    "noteable": {
      "last_transaction_id": "f23ae875-2558-45f9-84e8-b6a0c53e65b2",
      "last_delta_id": "f23ae875-2558-45f9-84e8-b6a0c53e65b2"
    },
    "selected_hardware_size": "small",
    "nteract": {
      "version": "noteable@2.9.0"
    }
  },
  "nbformat": 4,
  "nbformat_minor": 5
}